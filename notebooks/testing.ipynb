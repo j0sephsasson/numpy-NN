{
 "cells": [
  {
   "cell_type": "code",
   "execution_count": 1,
   "id": "653c02bd",
   "metadata": {},
   "outputs": [],
   "source": [
    "import numpy as np, pandas as pd, matplotlib.pyplot as plt, tensorflow as tf\n",
    "from sklearn.preprocessing import LabelEncoder"
   ]
  },
  {
   "cell_type": "code",
   "execution_count": 90,
   "id": "5aaa3e39",
   "metadata": {},
   "outputs": [],
   "source": [
    "(x_train, y_train), (x_test, y_test) = keras.datasets.mnist.load_data()\n",
    "\n",
    "x_train = x_train.reshape(x_train.shape[0], 28*28)\n",
    "x_test = x_test.reshape(x_test.shape[0], 28*28)"
   ]
  },
  {
   "cell_type": "code",
   "execution_count": 3,
   "id": "94a30258",
   "metadata": {},
   "outputs": [],
   "source": [
    "def get_data(path):\n",
    "    data = pd.read_csv(path, index_col=0)\n",
    "\n",
    "    cols = list(data.columns)\n",
    "    target = cols.pop()\n",
    "\n",
    "    X = data[cols].copy()\n",
    "    y = data[target].copy()\n",
    "\n",
    "    y = LabelEncoder().fit_transform(y)\n",
    "\n",
    "    return np.array(X), np.array(y)\n",
    "\n",
    "X, y = get_data(r\"C:\\Users\\12482\\Desktop\\articles\\nn_from_scratch\\iris.csv\")"
   ]
  },
  {
   "cell_type": "code",
   "execution_count": 66,
   "id": "57686ff9",
   "metadata": {},
   "outputs": [],
   "source": [
    "class DenseLayer:\n",
    "    def __init__(self, neurons):\n",
    "        self.neurons = neurons\n",
    "        \n",
    "    def relu(self, inputs):\n",
    "        return np.maximum(0, inputs)\n",
    "\n",
    "    def softmax(self, inputs):\n",
    "        exp_scores = np.exp(inputs)\n",
    "        probs = exp_scores / np.sum(exp_scores, axis=1, keepdims=True)\n",
    "        return probs\n",
    "    \n",
    "    def relu_derivative(self, dA, Z):\n",
    "        dZ = np.array(dA, copy = True)\n",
    "        dZ[Z <= 0] = 0\n",
    "        return dZ\n",
    "    \n",
    "    def forward(self, inputs, weights, bias, activation):\n",
    "        Z_curr = np.dot(inputs, weights.T) + bias\n",
    "        \n",
    "        if activation == 'relu':\n",
    "            A_curr = self.relu(inputs=Z_curr)\n",
    "        elif activation == 'softmax':\n",
    "            A_curr = self.softmax(inputs=Z_curr)\n",
    "            \n",
    "        return A_curr, Z_curr\n",
    "    \n",
    "    def backward(self, dA_curr, W_curr, Z_curr, A_prev, activation):\n",
    "        if activation == 'softmax':\n",
    "            dW = np.dot(A_prev.T, dA_curr)\n",
    "            db = np.sum(dA_curr, axis=0, keepdims=True)\n",
    "            dA = np.dot(dA_curr, W_curr) \n",
    "        else:\n",
    "            dZ = self.relu_derivative(dA_curr, Z_curr)\n",
    "            dW = np.dot(A_prev.T, dZ)\n",
    "            db = np.sum(dZ, axis=0, keepdims=True)\n",
    "            dA = np.dot(dZ, W_curr)\n",
    "            \n",
    "        return dA, dW, db\n",
    "\n",
    "class Network:\n",
    "    def __init__(self):\n",
    "        self.network = [] ## layers\n",
    "        self.architecture = [] ## mapping input neurons --> output neurons\n",
    "        self.params = [] ## W, b\n",
    "        self.memory = [] ## Z, A\n",
    "        self.gradients = [] ## dW, db\n",
    "        \n",
    "    def add(self, layer):\n",
    "        self.network.append(layer)\n",
    "            \n",
    "    def _compile(self, data):\n",
    "        for idx, layer in enumerate(self.network):\n",
    "            if idx == 0:\n",
    "                self.architecture.append({'input_dim':data.shape[1], 'output_dim':self.network[idx].neurons,\n",
    "                                         'activation':'relu'})\n",
    "            elif idx > 0 and idx < len(self.network)-1:\n",
    "                self.architecture.append({'input_dim':self.network[idx-1].neurons, 'output_dim':self.network[idx].neurons,\n",
    "                                         'activation':'relu'})\n",
    "            else:\n",
    "                self.architecture.append({'input_dim':self.network[idx-1].neurons, 'output_dim':self.network[idx].neurons,\n",
    "                                         'activation':'softmax'})\n",
    "        return self\n",
    "    \n",
    "    def _init_weights(self, data):\n",
    "        self._compile(data)\n",
    "        \n",
    "        np.random.seed(99)\n",
    "        \n",
    "        for i in range(len(self.architecture)):\n",
    "            self.params.append({\n",
    "                'W':np.random.uniform(low=-1, high=1, \n",
    "                  size=(self.architecture[i]['output_dim'], \n",
    "                        self.architecture[i]['input_dim'])),\n",
    "                'b':np.zeros((1, self.architecture[i]['output_dim']))})\n",
    "        \n",
    "        return self\n",
    "    \n",
    "    def _forwardprop(self, data):\n",
    "        A_curr = data\n",
    "        \n",
    "        for i in range(len(self.params)):\n",
    "            A_prev = A_curr\n",
    "            A_curr, Z_curr = self.network[i].forward(inputs=A_prev, weights=self.params[i]['W'], \n",
    "                                           bias=self.params[i]['b'], activation=self.architecture[i]['activation'])\n",
    "            \n",
    "            self.memory.append({'inputs':A_prev, 'Z':Z_curr})\n",
    "            \n",
    "        return A_curr\n",
    "    \n",
    "    def _backprop(self, predicted, actual):\n",
    "        num_samples = len(actual)\n",
    "        \n",
    "        ## compute the gradient on predictions\n",
    "        dscores = predicted\n",
    "        dscores[range(num_samples),actual] -= 1\n",
    "        dscores /= num_samples\n",
    "        \n",
    "        dA_prev = dscores\n",
    "        \n",
    "        for idx, layer in reversed(list(enumerate(self.network))):\n",
    "            dA_curr = dA_prev\n",
    "            \n",
    "            A_prev = self.memory[idx]['inputs']\n",
    "            Z_curr = self.memory[idx]['Z']\n",
    "            W_curr = self.params[idx]['W']\n",
    "            \n",
    "            activation = self.architecture[idx]['activation']\n",
    "\n",
    "            dA_prev, dW_curr, db_curr = layer.backward(dA_curr, W_curr, Z_curr, A_prev, activation)\n",
    "\n",
    "            self.gradients.append({'dW':dW_curr, 'db':db_curr})\n",
    "            \n",
    "    def _update(self, lr=0.01):\n",
    "        for idx, layer in enumerate(self.network):\n",
    "            self.params[idx]['W'] -= lr * list(reversed(self.gradients))[idx]['dW'].T  \n",
    "            self.params[idx]['b'] -= lr * list(reversed(self.gradients))[idx]['db']\n",
    "    \n",
    "    def _get_accuracy(self, predicted, actual):\n",
    "        return np.mean(np.argmax(predicted, axis=1)==actual)\n",
    "    \n",
    "    def _calculate_loss(self, predicted, actual):\n",
    "        samples = len(actual)\n",
    "        \n",
    "        correct_logprobs = -np.log(predicted[range(samples),actual])\n",
    "        data_loss = np.sum(correct_logprobs)/samples\n",
    "\n",
    "        return data_loss\n",
    "    \n",
    "    def train(self, X_train, y_train, epochs):\n",
    "        self.loss = []\n",
    "        self.accuracy = []\n",
    "        \n",
    "        self._init_weights(X_train)\n",
    "        \n",
    "        for i in range(epochs):\n",
    "            yhat = self._forwardprop(X_train)\n",
    "            self.accuracy.append(self._get_accuracy(predicted=yhat, actual=y_train))\n",
    "            self.loss.append(self._calculate_loss(predicted=yhat, actual=y_train))\n",
    "            \n",
    "            self._backprop(predicted=yhat, actual=y_train)\n",
    "            \n",
    "            self._update()\n",
    "            \n",
    "            if i % 20 == 0:\n",
    "                s = 'EPOCH: {}, ACCURACY: {}, LOSS: {}'.format(i, self.accuracy[-1], self.loss[-1])\n",
    "                print(s)"
   ]
  },
  {
   "cell_type": "code",
   "execution_count": 47,
   "id": "ef293046",
   "metadata": {},
   "outputs": [],
   "source": [
    "import matplotlib.pyplot as plt"
   ]
  },
  {
   "cell_type": "code",
   "execution_count": 79,
   "id": "22d9d321",
   "metadata": {},
   "outputs": [
    {
     "data": {
      "text/plain": [
       "Text(0.5, 1.0, 'Numpy Model Accuracy')"
      ]
     },
     "execution_count": 79,
     "metadata": {},
     "output_type": "execute_result"
    },
    {
     "data": {
      "image/png": "[encoded data removed]",
      "text/plain": [
       "<Figure size 432x288 with 1 Axes>"
      ]
     },
     "metadata": {
      "needs_background": "light"
     },
     "output_type": "display_data"
    }
   ],
   "source": [
    "plt.plot(model.accuracy)\n",
    "plt.title('Numpy Model Accuracy')"
   ]
  },
  {
   "cell_type": "code",
   "execution_count": 80,
   "id": "a06cf8ca",
   "metadata": {},
   "outputs": [
    {
     "data": {
      "text/plain": [
       "Text(0.5, 1.0, 'Numpy Model Loss')"
      ]
     },
     "execution_count": 80,
     "metadata": {},
     "output_type": "execute_result"
    },
    {
     "data": {
      "image/png": "[encoded data removed]",
      "text/plain": [
       "<Figure size 432x288 with 1 Axes>"
      ]
     },
     "metadata": {
      "needs_background": "light"
     },
     "output_type": "display_data"
    }
   ],
   "source": [
    "plt.plot(model.loss)\n",
    "plt.title('Numpy Model Loss')"
   ]
  },
  {
   "cell_type": "code",
   "execution_count": 67,
   "id": "4bd93f75",
   "metadata": {},
   "outputs": [
    {
     "name": "stdout",
     "output_type": "stream",
     "text": [
      "EPOCH: 0, ACCURACY: 0.3333333333333333, LOSS: 8.40744716505373\n",
      "EPOCH: 20, ACCURACY: 0.4, LOSS: 0.9217739285797661\n",
      "EPOCH: 40, ACCURACY: 0.43333333333333335, LOSS: 0.7513140371257646\n",
      "EPOCH: 60, ACCURACY: 0.42, LOSS: 0.6686109548451099\n",
      "EPOCH: 80, ACCURACY: 0.41333333333333333, LOSS: 0.6527102403575207\n",
      "EPOCH: 100, ACCURACY: 0.6666666666666666, LOSS: 0.5264810434939678\n",
      "EPOCH: 120, ACCURACY: 0.6666666666666666, LOSS: 0.4708499275871513\n",
      "EPOCH: 140, ACCURACY: 0.6666666666666666, LOSS: 0.5035542867669844\n",
      "EPOCH: 160, ACCURACY: 0.47333333333333333, LOSS: 1.0115020349485782\n",
      "EPOCH: 180, ACCURACY: 0.82, LOSS: 0.49134888468425214\n"
     ]
    }
   ],
   "source": [
    "model = Network()\n",
    "model.add(DenseLayer(6))\n",
    "model.add(DenseLayer(8))\n",
    "model.add(DenseLayer(10))\n",
    "model.add(DenseLayer(3))\n",
    "\n",
    "model.train(X, y, 200)"
   ]
  },
  {
   "cell_type": "code",
   "execution_count": 41,
   "id": "8a5c5eeb",
   "metadata": {},
   "outputs": [
    {
     "data": {
      "text/plain": [
       "((6, 4), (4, 6))"
      ]
     },
     "execution_count": 41,
     "metadata": {},
     "output_type": "execute_result"
    }
   ],
   "source": [
    "model.params[0]['W'].shape, list(reversed(model.gradients))[0]['dW'].shape"
   ]
  },
  {
   "cell_type": "code",
   "execution_count": 165,
   "id": "b9d37397",
   "metadata": {},
   "outputs": [
    {
     "name": "stdout",
     "output_type": "stream",
     "text": [
      "PROBABILITY DISTRIBTION @ IDX 0: [9.99998315e-01 1.07470169e-06 6.10266912e-07]\n",
      "CORRECT CLASS @ IDX 0: 0\n",
      "d_probs: [-1.68496861e-06  1.07470169e-06  6.10266912e-07]\n"
     ]
    }
   ],
   "source": [
    "print('PROBABILITY DISTRIBTION @ IDX 0:', out[0])\n",
    "print('CORRECT CLASS @ IDX 0:', y[0])\n",
    "\n",
    "out[0][0] = out[0][0]-1\n",
    "print('d_probs:', out[0])"
   ]
  },
  {
   "cell_type": "code",
   "execution_count": 154,
   "id": "a9c3265d",
   "metadata": {},
   "outputs": [
    {
     "data": {
      "text/plain": [
       "-1.6849686059750013e-06"
      ]
     },
     "execution_count": 154,
     "metadata": {},
     "output_type": "execute_result"
    }
   ],
   "source": [
    "d_out = out[0, y[0]] - 1\n",
    "d_out"
   ]
  },
  {
   "cell_type": "code",
   "execution_count": 125,
   "id": "e015ca32",
   "metadata": {},
   "outputs": [
    {
     "name": "stdout",
     "output_type": "stream",
     "text": [
      "(6, 4) (1, 6)\n",
      "(8, 6) (1, 8)\n",
      "(10, 8) (1, 10)\n",
      "(3, 10) (1, 3)\n"
     ]
    }
   ],
   "source": [
    "print(model.params[0]['W'].shape, model.params[0]['b'].shape)\n",
    "print(model.params[1]['W'].shape, model.params[1]['b'].shape)\n",
    "print(model.params[2]['W'].shape, model.params[2]['b'].shape)\n",
    "print(model.params[3]['W'].shape, model.params[3]['b'].shape)"
   ]
  },
  {
   "cell_type": "code",
   "execution_count": 20,
   "id": "21651ab6",
   "metadata": {},
   "outputs": [],
   "source": [
    "model = Network()\n",
    "model.add(DenseLayer(6))\n",
    "model.add(DenseLayer(8))\n",
    "model.add(DenseLayer(10))\n",
    "model.add(DenseLayer(3))\n",
    "\n",
    "model._init_weights(X)\n",
    "out = model._forwardprop(X)"
   ]
  },
  {
   "cell_type": "code",
   "execution_count": 148,
   "id": "a19a9b4c",
   "metadata": {},
   "outputs": [
    {
     "name": "stdout",
     "output_type": "stream",
     "text": [
      "SHAPE: (150, 3)\n",
      "Probabilties at idx 0: [9.99998315e-01 1.07470169e-06 6.10266912e-07]\n",
      "SUM: 1.0\n"
     ]
    }
   ],
   "source": [
    "print('SHAPE:', out.shape)\n",
    "print('Probabilties at idx 0:', out[0])\n",
    "print('SUM:', sum(out[0]))"
   ]
  },
  {
   "cell_type": "code",
   "execution_count": 142,
   "id": "e8004969",
   "metadata": {},
   "outputs": [
    {
     "data": {
      "text/plain": [
       "1.0"
      ]
     },
     "execution_count": 142,
     "metadata": {},
     "output_type": "execute_result"
    }
   ],
   "source": [
    "sum(out[0])"
   ]
  },
  {
   "cell_type": "code",
   "execution_count": 141,
   "id": "d6629af0",
   "metadata": {},
   "outputs": [
    {
     "data": {
      "text/plain": [
       "array([ 8.97399717, -4.76946857, -5.33537056])"
      ]
     },
     "execution_count": 141,
     "metadata": {},
     "output_type": "execute_result"
    }
   ],
   "source": [
    "model.memory[3]['Z'][0]"
   ]
  },
  {
   "cell_type": "code",
   "execution_count": 14,
   "id": "1053da0c",
   "metadata": {},
   "outputs": [],
   "source": [
    "def backward(dA_curr, W_curr, Z_curr, A_prev, activation):\n",
    "    if activation == 'softmax':\n",
    "        dW = np.dot(A_prev.T, dA_curr)\n",
    "        db = np.sum(dA_curr, axis=0, keepdims=True)\n",
    "        dA = np.dot(dA_curr, W_curr) \n",
    "    else:\n",
    "        dZ = relu_derivative(dA_curr, Z_curr)\n",
    "        dW = np.dot(A_prev.T, dZ)\n",
    "        db = np.sum(dZ, axis=0, keepdims=True)\n",
    "        dA = np.dot(dZ, W_curr)\n",
    "\n",
    "    return dA, dW, db"
   ]
  },
  {
   "cell_type": "code",
   "execution_count": 23,
   "id": "929706dd",
   "metadata": {},
   "outputs": [],
   "source": [
    "dA4, dW4, db4 = backward(dscores, model.params[3]['W'], model.memory[3]['Z'], model.memory[3]['inputs'], activation='softmax')\n",
    "# dA3, dW3, db3 = backward(dA4, model.params[2]['W'], model.memory[2]['Z'], model.memory[2]['inputs'], activation='relu')\n",
    "# dA2, dW2, db2 = backward(dA3, model.params[1]['W'], model.memory[1]['Z'], model.memory[1]['inputs'], activation='relu')\n",
    "# dA1, dW1, db1 = backward(dA2, model.params[0]['W'], model.memory[0]['Z'], model.memory[0]['inputs'], activation='relu')"
   ]
  },
  {
   "cell_type": "code",
   "execution_count": 31,
   "id": "8d63970c",
   "metadata": {},
   "outputs": [
    {
     "name": "stdout",
     "output_type": "stream",
     "text": [
      "[-3.43452010e-09 -5.90825642e-09 -1.19441329e-08 -1.35633938e-08\n",
      " -8.18994886e-09  5.46415451e-09  4.88397500e-09 -9.96250139e-09\n",
      " -1.11144493e-08  4.46874053e-10]\n",
      "\n",
      "[ 3.70228403 -3.61384089 -4.90509341  4.56114398  3.37757782  3.10155643\n",
      "  2.38419468 -0.23402421  7.49556206  0.61598379]\n"
     ]
    }
   ],
   "source": [
    "print(dA4[0])\n",
    "print()\n",
    "print(model.memory[2]['Z'][0])"
   ]
  },
  {
   "cell_type": "code",
   "execution_count": 33,
   "id": "b3b3afa8",
   "metadata": {},
   "outputs": [
    {
     "data": {
      "text/plain": [
       "array([-3.43452010e-09,  0.00000000e+00,  0.00000000e+00, -1.35633938e-08,\n",
       "       -8.18994886e-09,  5.46415451e-09,  4.88397500e-09,  0.00000000e+00,\n",
       "       -1.11144493e-08,  4.46874053e-10])"
      ]
     },
     "execution_count": 33,
     "metadata": {},
     "output_type": "execute_result"
    }
   ],
   "source": [
    "dA4[0]"
   ]
  },
  {
   "cell_type": "code",
   "execution_count": 32,
   "id": "91c134d8",
   "metadata": {},
   "outputs": [],
   "source": [
    "dA4[model.memory[2]['Z'] <= 0] = 0"
   ]
  },
  {
   "cell_type": "code",
   "execution_count": 24,
   "id": "2c75963d",
   "metadata": {},
   "outputs": [],
   "source": [
    "dZ = np.array(dA4, copy = True)"
   ]
  },
  {
   "cell_type": "code",
   "execution_count": 26,
   "id": "dd0b67e1",
   "metadata": {},
   "outputs": [],
   "source": [
    "dZ[model.memory[2]['Z'] <= 0] = 0"
   ]
  },
  {
   "cell_type": "code",
   "execution_count": 27,
   "id": "79040e45",
   "metadata": {},
   "outputs": [
    {
     "data": {
      "text/plain": [
       "array([[-3.43452010e-09,  0.00000000e+00,  0.00000000e+00, ...,\n",
       "         0.00000000e+00, -1.11144493e-08,  4.46874053e-10],\n",
       "       [-9.11767179e-09,  0.00000000e+00,  0.00000000e+00, ...,\n",
       "         0.00000000e+00, -2.72469787e-08,  2.38096815e-09],\n",
       "       [-1.10962662e-08,  0.00000000e+00,  0.00000000e+00, ...,\n",
       "         0.00000000e+00, -3.50756647e-08,  1.88431867e-09],\n",
       "       ...,\n",
       "       [ 3.14249820e-03,  3.85202103e-03,  0.00000000e+00, ...,\n",
       "         0.00000000e+00,  5.03148709e-03,  0.00000000e+00],\n",
       "       [ 3.14246463e-03,  3.85194946e-03,  0.00000000e+00, ...,\n",
       "         0.00000000e+00,  5.03133275e-03,  0.00000000e+00],\n",
       "       [ 3.14245826e-03,  3.85192927e-03,  0.00000000e+00, ...,\n",
       "         0.00000000e+00,  5.03128162e-03,  0.00000000e+00]])"
      ]
     },
     "execution_count": 27,
     "metadata": {},
     "output_type": "execute_result"
    }
   ],
   "source": [
    "dZ"
   ]
  },
  {
   "cell_type": "code",
   "execution_count": 12,
   "id": "99bad599",
   "metadata": {},
   "outputs": [],
   "source": [
    "model = Network()\n",
    "model.add(DenseLayer(6))\n",
    "model.add(DenseLayer(8))\n",
    "model.add(DenseLayer(3))\n",
    "# model.add(DenseLayer(10))\n",
    "# model.add(DenseLayer(6))\n",
    "\n",
    "model._init_weights(X)\n",
    "out = model._forwardprop(X)\n",
    "\n",
    "# model.train(X,y,200)"
   ]
  },
  {
   "cell_type": "code",
   "execution_count": 22,
   "id": "80b7aec4",
   "metadata": {},
   "outputs": [],
   "source": [
    "def relu_derivative(dA, Z):\n",
    "    dZ = np.array(dA, copy = True)\n",
    "    dZ[Z <= 0] = 0\n",
    "    return dZ\n",
    "\n",
    "dscores = out\n",
    "dscores[range(150),y] -= 1\n",
    "dscores /= 150"
   ]
  },
  {
   "cell_type": "code",
   "execution_count": 127,
   "id": "2ae1ce76",
   "metadata": {},
   "outputs": [],
   "source": [
    "correct_logprobs = -np.log(out[range(150),y])"
   ]
  },
  {
   "cell_type": "code",
   "execution_count": 40,
   "id": "6e8758b5",
   "metadata": {},
   "outputs": [],
   "source": [
    "ohy = tf.keras.utils.to_categorical(y, num_classes=3)"
   ]
  },
  {
   "cell_type": "code",
   "execution_count": 43,
   "id": "268c37fb",
   "metadata": {},
   "outputs": [
    {
     "name": "stdout",
     "output_type": "stream",
     "text": [
      "[1. 0. 0.]\n",
      "[3.01929735e-07 7.83961013e-09 9.99999690e-01]\n"
     ]
    }
   ],
   "source": [
    "print(ohy[0])\n",
    "print(out[0])"
   ]
  },
  {
   "cell_type": "code",
   "execution_count": 48,
   "id": "d473158e",
   "metadata": {},
   "outputs": [
    {
     "data": {
      "text/plain": [
       "15.01307151332731"
      ]
     },
     "execution_count": 48,
     "metadata": {},
     "output_type": "execute_result"
    }
   ],
   "source": [
    "v1 = -np.log(out[0][0]) * ohy[0][0]\n",
    "v2 = -np.log(out[0][1]) * ohy[0][1]\n",
    "v3 = -np.log(out[0][2]) * ohy[0][2]\n",
    "v1+v2+v3"
   ]
  },
  {
   "cell_type": "code",
   "execution_count": 52,
   "id": "233b49f5",
   "metadata": {},
   "outputs": [
    {
     "name": "stdout",
     "output_type": "stream",
     "text": [
      "15.01307151332731\n",
      "15.01307151332731\n"
     ]
    }
   ],
   "source": [
    "print(correct_logprobs[0])\n",
    "print(-np.log(out[0,0]))"
   ]
  },
  {
   "cell_type": "code",
   "execution_count": 85,
   "id": "cee13170",
   "metadata": {
    "scrolled": true
   },
   "outputs": [
    {
     "name": "stdout",
     "output_type": "stream",
     "text": [
      "Epoch 1/30\n",
      "5/5 [==============================] - 0s 2ms/step - loss: 1.4516 - accuracy: 0.2733\n",
      "Epoch 2/30\n",
      "5/5 [==============================] - 0s 3ms/step - loss: 1.1326 - accuracy: 0.1400\n",
      "Epoch 3/30\n",
      "5/5 [==============================] - 0s 2ms/step - loss: 1.0596 - accuracy: 0.2867\n",
      "Epoch 4/30\n",
      "5/5 [==============================] - 0s 3ms/step - loss: 1.0201 - accuracy: 0.4933\n",
      "Epoch 5/30\n",
      "5/5 [==============================] - 0s 2ms/step - loss: 0.9906 - accuracy: 0.4400\n",
      "Epoch 6/30\n",
      "5/5 [==============================] - 0s 2ms/step - loss: 0.9610 - accuracy: 0.7000\n",
      "Epoch 7/30\n",
      "5/5 [==============================] - 0s 3ms/step - loss: 0.9296 - accuracy: 0.7400\n",
      "Epoch 8/30\n",
      "5/5 [==============================] - 0s 2ms/step - loss: 0.8928 - accuracy: 0.8000\n",
      "Epoch 9/30\n",
      "5/5 [==============================] - 0s 2ms/step - loss: 0.8601 - accuracy: 0.8067\n",
      "Epoch 10/30\n",
      "5/5 [==============================] - 0s 2ms/step - loss: 0.8255 - accuracy: 0.7800\n",
      "Epoch 11/30\n",
      "5/5 [==============================] - 0s 2ms/step - loss: 0.7934 - accuracy: 0.7733\n",
      "Epoch 12/30\n",
      "5/5 [==============================] - 0s 2ms/step - loss: 0.7613 - accuracy: 0.8400\n",
      "Epoch 13/30\n",
      "5/5 [==============================] - 0s 3ms/step - loss: 0.7316 - accuracy: 0.8000\n",
      "Epoch 14/30\n",
      "5/5 [==============================] - 0s 2ms/step - loss: 0.7041 - accuracy: 0.7667\n",
      "Epoch 15/30\n",
      "5/5 [==============================] - 0s 2ms/step - loss: 0.6756 - accuracy: 0.7867\n",
      "Epoch 16/30\n",
      "5/5 [==============================] - 0s 2ms/step - loss: 0.6542 - accuracy: 0.7867\n",
      "Epoch 17/30\n",
      "5/5 [==============================] - 0s 2ms/step - loss: 0.6302 - accuracy: 0.8067\n",
      "Epoch 18/30\n",
      "5/5 [==============================] - 0s 2ms/step - loss: 0.6050 - accuracy: 0.8400\n",
      "Epoch 19/30\n",
      "5/5 [==============================] - 0s 2ms/step - loss: 0.5847 - accuracy: 0.8333\n",
      "Epoch 20/30\n",
      "5/5 [==============================] - 0s 2ms/step - loss: 0.5695 - accuracy: 0.8600\n",
      "Epoch 21/30\n",
      "5/5 [==============================] - 0s 3ms/step - loss: 0.5506 - accuracy: 0.8000\n",
      "Epoch 22/30\n",
      "5/5 [==============================] - 0s 3ms/step - loss: 0.5313 - accuracy: 0.8867\n",
      "Epoch 23/30\n",
      "5/5 [==============================] - 0s 2ms/step - loss: 0.5183 - accuracy: 0.8667\n",
      "Epoch 24/30\n",
      "5/5 [==============================] - 0s 3ms/step - loss: 0.5066 - accuracy: 0.8733\n",
      "Epoch 25/30\n",
      "5/5 [==============================] - 0s 3ms/step - loss: 0.4943 - accuracy: 0.8733\n",
      "Epoch 26/30\n",
      "5/5 [==============================] - 0s 3ms/step - loss: 0.4813 - accuracy: 0.8800\n",
      "Epoch 27/30\n",
      "5/5 [==============================] - 0s 2ms/step - loss: 0.4701 - accuracy: 0.9000\n",
      "Epoch 28/30\n",
      "5/5 [==============================] - 0s 3ms/step - loss: 0.4620 - accuracy: 0.8933\n",
      "Epoch 29/30\n",
      "5/5 [==============================] - 0s 2ms/step - loss: 0.4524 - accuracy: 0.9000\n",
      "Epoch 30/30\n",
      "5/5 [==============================] - 0s 2ms/step - loss: 0.4462 - accuracy: 0.9000\n"
     ]
    },
    {
     "data": {
      "text/plain": [
       "<keras.callbacks.History at 0x2629e7a2b48>"
      ]
     },
     "execution_count": 85,
     "metadata": {},
     "output_type": "execute_result"
    }
   ],
   "source": [
    "from keras.models import Sequential\n",
    "from keras.layers import Dense\n",
    "import tensorflow as tf\n",
    "from tensorflow.keras.optimizers import SGD\n",
    "\n",
    "ohy = tf.keras.utils.to_categorical(y, num_classes=3)\n",
    "\n",
    "model2 = Sequential()\n",
    "model2.add(Dense(6, activation='relu'))\n",
    "model2.add(Dense(10, activation='relu'))\n",
    "model2.add(Dense(8, activation='relu'))\n",
    "model2.add(Dense(3, activation='softmax'))\n",
    "\n",
    "model2.compile(SGD(learning_rate=0.01), loss='categorical_crossentropy', metrics=['accuracy'])\n",
    "\n",
    "model2.fit(x=X, y=ohy, epochs=30)"
   ]
  },
  {
   "cell_type": "code",
   "execution_count": 83,
   "id": "1153fcc2",
   "metadata": {
    "scrolled": true
   },
   "outputs": [
    {
     "data": {
      "text/plain": [
       "Text(0.5, 1.0, 'Keras Accuracy')"
      ]
     },
     "execution_count": 83,
     "metadata": {},
     "output_type": "execute_result"
    },
    {
     "data": {
      "image/png": "[encoded data removed]",
      "text/plain": [
       "<Figure size 432x288 with 1 Axes>"
      ]
     },
     "metadata": {
      "needs_background": "light"
     },
     "output_type": "display_data"
    }
   ],
   "source": [
    "plt.plot(model2.history.history['accuracy'])\n",
    "plt.title('Keras Accuracy')"
   ]
  },
  {
   "cell_type": "code",
   "execution_count": 84,
   "id": "5cf3639e",
   "metadata": {},
   "outputs": [
    {
     "data": {
      "text/plain": [
       "Text(0.5, 1.0, 'Keras Loss')"
      ]
     },
     "execution_count": 84,
     "metadata": {},
     "output_type": "execute_result"
    },
    {
     "data": {
      "image/png": "[encoded data removed]",
      "text/plain": [
       "<Figure size 432x288 with 1 Axes>"
      ]
     },
     "metadata": {
      "needs_background": "light"
     },
     "output_type": "display_data"
    }
   ],
   "source": [
    "plt.plot(model2.history.history['loss'])\n",
    "plt.title('Keras Loss')"
   ]
  }
 ],
 "metadata": {
  "kernelspec": {
   "display_name": "Python 3",
   "language": "python",
   "name": "python3"
  },
  "language_info": {
   "codemirror_mode": {
    "name": "ipython",
    "version": 3
   },
   "file_extension": ".py",
   "mimetype": "text/x-python",
   "name": "python",
   "nbconvert_exporter": "python",
   "pygments_lexer": "ipython3",
   "version": "3.7.12"
  }
 },
 "nbformat": 4,
 "nbformat_minor": 5
}
