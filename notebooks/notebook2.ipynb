{
 "cells": [
  {
   "cell_type": "code",
   "execution_count": 1,
   "id": "d2b6f75a",
   "metadata": {},
   "outputs": [],
   "source": [
    "import numpy as np, pandas as pd, matplotlib.pyplot as plt\n",
    "from sklearn.preprocessing import LabelEncoder"
   ]
  },
  {
   "cell_type": "code",
   "execution_count": 18,
   "id": "f4baa36a",
   "metadata": {},
   "outputs": [],
   "source": [
    "# X = np.random.uniform(low=-2, high=5, size=(6,8))\n",
    "# ytrue = np.array([1,0,1,2,0,2])\n",
    "\n",
    "def get_data(path):\n",
    "    data = pd.read_csv(path, index_col=0)\n",
    "\n",
    "    cols = list(data.columns)\n",
    "    target = cols.pop()\n",
    "\n",
    "    X = data[cols].copy()\n",
    "    y = data[target].copy()\n",
    "\n",
    "    y = LabelEncoder().fit_transform(y)\n",
    "\n",
    "    return np.array(X), np.array(y)\n",
    "\n",
    "X, y = get_data(r'C:\\Users\\12482\\Desktop\\articles\\nn_from_scratch\\iris.csv')"
   ]
  },
  {
   "cell_type": "code",
   "execution_count": 72,
   "id": "97337ad9",
   "metadata": {},
   "outputs": [],
   "source": [
    "class DenseLayer:\n",
    "    def __init__(self, neurons):\n",
    "        self.neurons = neurons\n",
    "        \n",
    "    def relu(self, inputs):\n",
    "        return np.maximum(0, inputs)\n",
    "\n",
    "    def softmax(self, inputs):\n",
    "        exp_scores = np.exp(inputs)\n",
    "        probs = exp_scores / np.sum(exp_scores, axis=1, keepdims=True)\n",
    "        return probs\n",
    "    \n",
    "    def relu_derivative(self, dA, Z):\n",
    "        dZ = np.array(dA, copy = True)\n",
    "        dZ[Z <= 0] = 0\n",
    "        return dZ\n",
    "    \n",
    "    def forward(self, inputs, weights, bias, activation):\n",
    "        Z_curr = np.dot(inputs, weights.T) + bias\n",
    "        \n",
    "        if activation == 'relu':\n",
    "            A_curr = self.relu(inputs=Z_curr)\n",
    "        elif activation == 'softmax':\n",
    "            A_curr = self.softmax(inputs=Z_curr)\n",
    "            \n",
    "        return A_curr, Z_curr\n",
    "    \n",
    "    def backward(self, dA_curr, W_curr, Z_curr, A_prev, activation):\n",
    "        if activation == 'softmax':\n",
    "            dW = np.dot(A_prev.T, dA_curr) ## backpropate the gradient to the parameters (W,b)\n",
    "            db = np.sum(dA_curr, axis=0, keepdims=True)\n",
    "            dA = np.dot(W_curr.T, dA_curr.T) ## --> next input for dW (this is dA)\n",
    "        else:\n",
    "            dZ = self.relu_derivative(dA_curr.T, Z_curr)\n",
    "            dW = np.dot(A_prev.T, dZ)\n",
    "            db = np.sum(dZ, axis=0, keepdims=True)\n",
    "            dA = np.dot(W_curr.T, dZ.T) ## --> next input for dW (this is dA)\n",
    "            \n",
    "        return dA, dW, db\n",
    "\n",
    "class Network:\n",
    "    def __init__(self):\n",
    "        self.network = [] ## layers\n",
    "        self.architecture = [] ## mapping input neurons --> output neurons\n",
    "        self.params = [] ## W, b\n",
    "        self.memory = [] ## Z, A\n",
    "        self.gradients = [] ## dW, db\n",
    "        \n",
    "    def add(self, layer):\n",
    "        self.network.append(layer)\n",
    "            \n",
    "    def _compile(self, data):\n",
    "        for idx, layer in enumerate(self.network):\n",
    "            if idx == 0:\n",
    "                self.architecture.append({'input_dim':data.shape[1], \n",
    "                                          'output_dim':layer.neurons, 'activation':'relu'})\n",
    "            if idx == len(self.network)-2:\n",
    "                self.architecture.append({'input_dim':layer.neurons, \n",
    "                                          'output_dim':self.network[idx+1].neurons, 'activation':'softmax'})\n",
    "            elif idx != len(self.network)-2 and idx != len(self.network)-1:\n",
    "                self.architecture.append({'input_dim':layer.neurons, \n",
    "                                          'output_dim':self.network[idx+1].neurons, 'activation':'relu'})\n",
    "            else:\n",
    "                continue\n",
    "                \n",
    "        return self\n",
    "    \n",
    "    def _init_weights(self, data):\n",
    "        self._compile(data)\n",
    "        \n",
    "        for i in range(len(self.architecture)):\n",
    "            self.params.append({\n",
    "                'W':np.random.uniform(low=-1, high=1, \n",
    "                  size=(self.architecture[i]['output_dim'], \n",
    "                        self.architecture[i]['input_dim'])),\n",
    "                'b':np.zeros((1, self.architecture[i]['output_dim']))})\n",
    "        \n",
    "        return self\n",
    "    \n",
    "    def _forwardprop(self, data):\n",
    "        A_curr = data\n",
    "        \n",
    "        for i in range(len(self.params)):\n",
    "            A_prev = A_curr\n",
    "            A_curr, Z_curr = self.network[i].forward(inputs=A_prev, weights=self.params[i]['W'], \n",
    "                                           bias=self.params[i]['b'], activation=self.architecture[i]['activation'])\n",
    "            \n",
    "            self.memory.append({'inputs':A_prev, 'Z':Z_curr})\n",
    "            \n",
    "        return A_curr\n",
    "    \n",
    "    def _backprop(self, predicted, actual):\n",
    "        num_samples = len(actual)\n",
    "        \n",
    "        ## compute the gradient on predictions\n",
    "        dscores = predicted\n",
    "        dscores[range(num_samples),actual] -= 1\n",
    "        dscores /= num_samples\n",
    "        \n",
    "        dA_prev = dscores\n",
    "        \n",
    "        for idx, layer in reversed(list(enumerate(self.network))):\n",
    "            dA_curr = dA_prev\n",
    "            \n",
    "            A_prev = self.memory[idx]['inputs']\n",
    "            Z_curr = self.memory[idx]['Z']\n",
    "            W_curr = self.params[idx]['W']\n",
    "            \n",
    "            activation = self.architecture[idx]['activation']\n",
    "\n",
    "            dA_prev, dW_curr, db_curr = layer.backward(dA_curr, W_curr, Z_curr, A_prev, activation)\n",
    "\n",
    "            self.gradients.append({'dW':dW_curr, 'db':db_curr})\n",
    "            \n",
    "    def _update(self, lr=0.02):\n",
    "        for idx, layer in enumerate(self.network):\n",
    "            self.params[idx]['W'] -= lr * list(reversed(self.gradients))[idx]['dW'].T     \n",
    "            self.params[idx]['b'] -= lr * list(reversed(self.gradients))[idx]['db']\n",
    "    \n",
    "    def _get_accuracy(self, predicted, actual):\n",
    "        return np.mean(np.argmax(predicted, axis=1)==actual)\n",
    "    \n",
    "    def _calculate_loss(self, predicted, actual):\n",
    "        samples = len(actual)\n",
    "        \n",
    "        probs = predicted / np.sum(predicted, axis=1, keepdims=True)\n",
    "        correct_logprobs = -np.log(probs[range(samples),actual])\n",
    "        data_loss = np.sum(correct_logprobs)/150\n",
    "\n",
    "        return data_loss\n",
    "    \n",
    "    def train(self, X_train, y_train, epochs):\n",
    "        self.loss = []\n",
    "        self.accuracy = []\n",
    "        \n",
    "        self._init_weights(X_train)\n",
    "        \n",
    "        for i in range(epochs):\n",
    "            yhat = self._forwardprop(X_train)\n",
    "            self.accuracy.append(self._get_accuracy(predicted=yhat, actual=y_train))\n",
    "            self.loss.append(self._calculate_loss(predicted=yhat, actual=y_train))\n",
    "            \n",
    "            self._backprop(predicted=yhat, actual=y_train)\n",
    "            \n",
    "            self._update()\n",
    "            \n",
    "\n",
    "model = Network()\n",
    "model.add(DenseLayer(2))\n",
    "model.add(DenseLayer(8))\n",
    "model.add(DenseLayer(10))\n",
    "model.add(DenseLayer(3))\n",
    "\n",
    "model.train(X_train=X, y_train=y, epochs=80)"
   ]
  },
  {
   "cell_type": "code",
   "execution_count": 73,
   "id": "679de679",
   "metadata": {},
   "outputs": [
    {
     "data": {
      "text/plain": [
       "[<matplotlib.lines.Line2D at 0x21f83560fc8>]"
      ]
     },
     "execution_count": 73,
     "metadata": {},
     "output_type": "execute_result"
    },
    {
     "data": {
      "image/png": "[encoded data removed]",
      "text/plain": [
       "<Figure size 432x288 with 1 Axes>"
      ]
     },
     "metadata": {
      "needs_background": "light"
     },
     "output_type": "display_data"
    }
   ],
   "source": [
    "plt.plot(model.accuracy)"
   ]
  },
  {
   "cell_type": "code",
   "execution_count": 74,
   "id": "ebdd347b",
   "metadata": {},
   "outputs": [
    {
     "data": {
      "text/plain": [
       "[<matplotlib.lines.Line2D at 0x21f83701d08>]"
      ]
     },
     "execution_count": 74,
     "metadata": {},
     "output_type": "execute_result"
    },
    {
     "data": {
      "image/png": "[encoded data removed]",
      "text/plain": [
       "<Figure size 432x288 with 1 Axes>"
      ]
     },
     "metadata": {
      "needs_background": "light"
     },
     "output_type": "display_data"
    }
   ],
   "source": [
    "plt.plot(model.loss)"
   ]
  },
  {
   "cell_type": "code",
   "execution_count": 75,
   "id": "de7d6ed5",
   "metadata": {},
   "outputs": [
    {
     "data": {
      "text/plain": [
       "array([0], dtype=int64)"
      ]
     },
     "execution_count": 75,
     "metadata": {},
     "output_type": "execute_result"
    }
   ],
   "source": [
    "yhat = model._forwardprop(X[0])\n",
    "np.argmax(yhat, axis=1)"
   ]
  },
  {
   "cell_type": "code",
   "execution_count": 62,
   "id": "a435a264",
   "metadata": {},
   "outputs": [
    {
     "data": {
      "text/plain": [
       "0"
      ]
     },
     "execution_count": 62,
     "metadata": {},
     "output_type": "execute_result"
    }
   ],
   "source": [
    "y[0]"
   ]
  },
  {
   "cell_type": "code",
   "execution_count": 16,
   "id": "dbbfe686",
   "metadata": {},
   "outputs": [
    {
     "name": "stdout",
     "output_type": "stream",
     "text": [
      "(2, 4) (2, 4)\n",
      "(8, 2) (8, 2)\n",
      "(10, 8) (10, 8)\n",
      "(6, 10) (6, 10)\n"
     ]
    }
   ],
   "source": [
    "for idx, layer in enumerate(model.network):\n",
    "    print(model.params[idx]['W'].shape, list(reversed(model.gradients))[idx]['dW'].T.shape)"
   ]
  },
  {
   "cell_type": "code",
   "execution_count": 14,
   "id": "b46aed49",
   "metadata": {},
   "outputs": [
    {
     "name": "stdout",
     "output_type": "stream",
     "text": [
      "(1, 2)\n",
      "(1, 8)\n",
      "(1, 10)\n",
      "(1, 6)\n"
     ]
    }
   ],
   "source": [
    "print(model.params[0]['b'].shape)\n",
    "print(model.params[1]['b'].shape)\n",
    "print(model.params[2]['b'].shape)\n",
    "print(model.params[3]['b'].shape)"
   ]
  },
  {
   "cell_type": "code",
   "execution_count": 13,
   "id": "c2a5034a",
   "metadata": {},
   "outputs": [
    {
     "name": "stdout",
     "output_type": "stream",
     "text": [
      "(1, 6)\n",
      "(1, 10)\n",
      "(1, 8)\n",
      "(1, 2)\n"
     ]
    }
   ],
   "source": [
    "print(model.gradients[0]['db'].shape)\n",
    "print(model.gradients[1]['db'].shape)\n",
    "print(model.gradients[2]['db'].shape)\n",
    "print(model.gradients[3]['db'].shape)"
   ]
  },
  {
   "cell_type": "code",
   "execution_count": 11,
   "id": "e2bfb7f4",
   "metadata": {},
   "outputs": [
    {
     "data": {
      "text/plain": [
       "(4, 2)"
      ]
     },
     "execution_count": 11,
     "metadata": {},
     "output_type": "execute_result"
    }
   ],
   "source": [
    "list(reversed(model.gradients))[0]['dW'].shape"
   ]
  },
  {
   "cell_type": "code",
   "execution_count": 8,
   "id": "10fd3159",
   "metadata": {},
   "outputs": [],
   "source": [
    "d = list(reversed(model.gradients))\n",
    "r = model.params[0]['W']- (0.01 * d[0]['dW'].T)"
   ]
  },
  {
   "cell_type": "code",
   "execution_count": 9,
   "id": "578c9f08",
   "metadata": {},
   "outputs": [
    {
     "data": {
      "text/plain": [
       "array([[-0.46389482,  0.56283981,  0.15665563,  0.74632185],\n",
       "       [ 0.67504404,  0.11024425, -0.6045731 ,  0.87147938]])"
      ]
     },
     "execution_count": 9,
     "metadata": {},
     "output_type": "execute_result"
    }
   ],
   "source": [
    "r"
   ]
  },
  {
   "cell_type": "code",
   "execution_count": 83,
   "id": "c77c896f",
   "metadata": {},
   "outputs": [
    {
     "name": "stdout",
     "output_type": "stream",
     "text": [
      "(2, 4)\n",
      "(8, 2)\n",
      "(10, 8)\n",
      "(6, 10)\n"
     ]
    }
   ],
   "source": [
    "print(model.params[0]['W'].shape)\n",
    "print(model.params[1]['W'].shape)\n",
    "print(model.params[2]['W'].shape)\n",
    "print(model.params[3]['W'].shape)"
   ]
  },
  {
   "cell_type": "code",
   "execution_count": 84,
   "id": "4f74bd59",
   "metadata": {},
   "outputs": [
    {
     "name": "stdout",
     "output_type": "stream",
     "text": [
      "(4, 2)\n",
      "(2, 8)\n",
      "(8, 10)\n",
      "(10, 6)\n"
     ]
    }
   ],
   "source": [
    "print(model.gradients[3]['dW'].shape)\n",
    "print(model.gradients[2]['dW'].shape)\n",
    "print(model.gradients[1]['dW'].shape)\n",
    "print(model.gradients[0]['dW'].shape)"
   ]
  },
  {
   "cell_type": "code",
   "execution_count": 69,
   "id": "78756e41",
   "metadata": {},
   "outputs": [],
   "source": [
    "#  compute the gradient on scores\n",
    "dscores = yhat\n",
    "dscores[range(150),y] -= 1\n",
    "dscores /= 150\n",
    "\n",
    "# backpropate the gradient to the parameters (W,b)\n",
    "dW = np.dot(model.memory[3]['inputs'].T, dscores)\n",
    "db = np.sum(dscores, axis=0, keepdims=True)\n",
    "dA_prev = np.dot(model.params[3]['W'].T, dscores.T) ## --> next input for dW (this is dA)"
   ]
  },
  {
   "cell_type": "code",
   "execution_count": 70,
   "id": "a8cbf9ec",
   "metadata": {},
   "outputs": [],
   "source": [
    "def relu_derivative(dA, Z):\n",
    "    dZ = np.array(dA, copy = True)\n",
    "    dZ[Z <= 0] = 0\n",
    "    return dZ\n",
    "\n",
    "dZ = relu_derivative(dA_prev.T, model.memory[2]['Z'])\n",
    "dW1 = np.dot(model.memory[2]['inputs'].T, dZ)\n",
    "db1 = np.sum(dZ, axis=0, keepdims=True)\n",
    "dA_prev1 = np.dot(model.params[2]['W'].T, dZ.T) ## --> next input for dW (this is dA)"
   ]
  },
  {
   "cell_type": "code",
   "execution_count": 71,
   "id": "9f6f1996",
   "metadata": {},
   "outputs": [],
   "source": [
    "dZ1 = relu_derivative(dA_prev1.T, model.memory[1]['Z'])\n",
    "dW2 = np.dot(model.memory[1]['inputs'].T, dZ1)\n",
    "db2 = np.sum(dZ1, axis=0, keepdims=True)\n",
    "dA_prev2 = np.dot(model.params[1]['W'].T, dZ1.T) ## --> next input for dW (this is dA)"
   ]
  },
  {
   "cell_type": "code",
   "execution_count": 72,
   "id": "b22b907c",
   "metadata": {},
   "outputs": [],
   "source": [
    "dZ2 = relu_derivative(dA_prev2.T, model.memory[0]['Z'])\n",
    "dW3 = np.dot(model.memory[0]['inputs'].T, dZ2)\n",
    "db3 = np.sum(dZ2, axis=0, keepdims=True)\n",
    "dA_prev3 = np.dot(model.params[0]['W'].T, dZ2.T) ## --> next input for dW (this is dA)"
   ]
  },
  {
   "cell_type": "code",
   "execution_count": 74,
   "id": "5556c05a",
   "metadata": {},
   "outputs": [
    {
     "name": "stdout",
     "output_type": "stream",
     "text": [
      "(10, 6) (6, 10)\n",
      "(8, 10) (10, 8)\n",
      "(2, 8) (8, 2)\n",
      "(4, 2) (2, 4)\n"
     ]
    }
   ],
   "source": [
    "print(dW.shape, model.params[3]['W'].shape)\n",
    "print(dW1.shape, model.params[2]['W'].shape)\n",
    "print(dW2.shape, model.params[1]['W'].shape)\n",
    "print(dW3.shape, model.params[0]['W'].shape)"
   ]
  },
  {
   "cell_type": "code",
   "execution_count": 39,
   "id": "8c46c50b",
   "metadata": {},
   "outputs": [
    {
     "name": "stdout",
     "output_type": "stream",
     "text": [
      "3 {'input_dim': 10, 'output_dim': 3, 'activation': 'softmax'}\n",
      "2 {'input_dim': 8, 'output_dim': 10, 'activation': 'relu'}\n",
      "1 {'input_dim': 150, 'output_dim': 8, 'activation': 'relu'}\n",
      "0 {'input_dim': 4, 'output_dim': 150, 'activation': 'relu'}\n"
     ]
    }
   ],
   "source": [
    "for idx, layer in reversed(list(enumerate(model.architecture))):\n",
    "    print(idx,layer)"
   ]
  }
 ],
 "metadata": {
  "kernelspec": {
   "display_name": "Python 3",
   "language": "python",
   "name": "python3"
  },
  "language_info": {
   "codemirror_mode": {
    "name": "ipython",
    "version": 3
   },
   "file_extension": ".py",
   "mimetype": "text/x-python",
   "name": "python",
   "nbconvert_exporter": "python",
   "pygments_lexer": "ipython3",
   "version": "3.7.12"
  }
 },
 "nbformat": 4,
 "nbformat_minor": 5
}
