{
 "cells": [
  {
   "cell_type": "code",
   "execution_count": 1,
   "id": "de771492",
   "metadata": {},
   "outputs": [],
   "source": [
    "import numpy as np, pandas as pd"
   ]
  },
  {
   "cell_type": "code",
   "execution_count": 2,
   "id": "7efea1ef",
   "metadata": {},
   "outputs": [],
   "source": [
    "X = np.random.uniform(low=-2, high=5, size=(6,8))\n",
    "W = np.random.uniform(low=-2, high=5, size=(6,4))\n",
    "b = np.zeros((1, 6))\n",
    "ytrue = np.array([1,0,1,2,0,2])"
   ]
  },
  {
   "cell_type": "code",
   "execution_count": 13,
   "id": "abef3d14",
   "metadata": {},
   "outputs": [],
   "source": [
    "class DenseLayer:\n",
    "    def __init__(self, neurons):\n",
    "        self.neurons = neurons\n",
    "        self.b = np.zeros((1, neurons))\n",
    "        \n",
    "    def ReLU(self, inputs):\n",
    "        return np.maximum(0, inputs)\n",
    "    \n",
    "    def Softmax(self, inputs):\n",
    "        e_vals = np.exp(inputs - np.max(inputs, axis=1, keepdims=True))\n",
    "        return e_vals / np.sum(e_vals, axis=1, keepdims=True)\n",
    "    \n",
    "    def relu_derivative(self, dA, Z):\n",
    "        try:\n",
    "            dZ = np.array(dA, copy = True)\n",
    "            dZ[Z <= 0] = 0\n",
    "        except:\n",
    "            dA = dA.T\n",
    "            dZ = np.array(dA, copy = True)\n",
    "            dZ[Z <= 0] = 0\n",
    "        return dZ\n",
    "        \n",
    "    def forward(self, inputs, last=False):\n",
    "        self.weights = np.random.uniform(low=-1, high=1, size=(inputs.shape[1], self.neurons))\n",
    "        self.Z = np.dot(inputs, self.weights) + self.b\n",
    "        if last == True:\n",
    "            self.A = self.Softmax(self.Z)\n",
    "        else:\n",
    "            self.A = self.ReLU(self.Z)\n",
    "        self.inp = inputs\n",
    "            \n",
    "    def backward(self, dA_curr, W_curr, Z_curr, A_prev):\n",
    "        m = A_prev.shape[1]\n",
    "\n",
    "        dZ_curr = self.relu_derivative(dA_curr, Z_curr)\n",
    "        dW_curr = np.dot(dZ_curr.T, A_prev) / m\n",
    "        db_curr = np.sum(dZ_curr, axis=1, keepdims=True) / m\n",
    "        dA_prev = np.dot(W_curr, dZ_curr.T)\n",
    "\n",
    "        return dA_prev, dW_curr, db_curr\n",
    "\n",
    "class Network:\n",
    "    def __init__(self):\n",
    "        self.network = []\n",
    "        self.memory = {}\n",
    "        self.gradients = {}\n",
    "        \n",
    "    def add(self, layer):\n",
    "        self.network.append(layer)\n",
    "        \n",
    "    def _one_hot(self, labels):\n",
    "        ohy = np.zeros((labels.size, labels.max() + 1))\n",
    "        ohy[np.arange(labels.size), labels] = 1\n",
    "        ohy_t = ohy.T\n",
    "        return ohy_t\n",
    "        \n",
    "    def _forwardprop(self, data):\n",
    "        new_out = []\n",
    "        for idx, layer in enumerate(self.network):\n",
    "            if layer != self.network[-1]:\n",
    "                if not new_out:\n",
    "                    layer.forward(data)\n",
    "                    new_out.append(layer.A)\n",
    "                    self.memory[idx+1] = {'W':layer.weights, 'Z':layer.Z, 'A':layer.A,\n",
    "                                         'b':layer.b}\n",
    "                else:\n",
    "                    layer.forward(new_out[-1])\n",
    "                    new_out.append(layer.A)\n",
    "                    self.memory[idx+1] = {'W':layer.weights, 'Z':layer.Z, 'A':layer.A,\n",
    "                                         'b':layer.b}\n",
    "            else:\n",
    "                layer.forward(new_out[-1], last=True)\n",
    "                new_out.append(layer.A)\n",
    "                self.memory[idx+1] = {'W':layer.weights, 'Z':layer.Z, 'A':layer.A,\n",
    "                                      'b':layer.b}\n",
    "        \n",
    "        return new_out[-1]\n",
    "    \n",
    "    def _backprop(self, actual_y, predicted_y):\n",
    "        actual_y = self._one_hot(labels=actual_y)\n",
    "        actual_y = actual_y.reshape(predicted_y.shape)\n",
    "        dA_prev = - (np.divide(actual_y, predicted_y) - np.divide(1 - actual_y, 1 - predicted_y))\n",
    "        \n",
    "        for idx, layer in reversed(list(enumerate(self.network))):\n",
    "            \n",
    "            layer_idx_curr = idx + 1\n",
    "\n",
    "            ## if output layer --> insert dC/y_hat, otherwise update with dC/dZ\n",
    "            dA_curr = dA_prev\n",
    "\n",
    "            ## if input layer --> no previous activation, inputs are initial data\n",
    "            if idx != 0:\n",
    "                A_prev = self.memory[idx]['A']\n",
    "            else: \n",
    "                A_prev = layer.inp\n",
    "\n",
    "            Z_curr = self.memory[layer_idx_curr]['Z']\n",
    "            W_curr = self.memory[layer_idx_curr]['W']\n",
    "\n",
    "            dA_prev, dW_curr, db_curr = layer.backward(dA_curr, W_curr, Z_curr, A_prev)\n",
    "\n",
    "            self.gradients[layer_idx_curr] = {'dW':dW_curr, 'db':db_curr}\n",
    "                \n",
    "    def update(self, lr=0.01):\n",
    "        for layer_idx in range(len(self.network)):\n",
    "            self.memory[layer_idx+1]['W'] -= lr * self.gradients[layer_idx+1]['dW']  \n",
    "            self.memory[layer_idx+1]['b'] -= lr * self.gradients[layer_idx+1]['db']\n",
    "            \n",
    "\n",
    "model = Network()\n",
    "model.add(DenseLayer(X.shape[0]))\n",
    "model.add(DenseLayer(15))\n",
    "model.add(DenseLayer(8))\n",
    "model.add(DenseLayer(3))\n",
    "\n",
    "out = model._forwardprop(X)\n",
    "model._backprop(actual_y=ytrue, predicted_y=out)"
   ]
  },
  {
   "cell_type": "code",
   "execution_count": 205,
   "id": "d4c5b6c0",
   "metadata": {},
   "outputs": [],
   "source": [
    "actual_y = model._one_hot(labels=ytrue)\n",
    "actual_y = actual_y.reshape(out.shape)\n",
    "\n",
    "def relu_derivative(dA, Z):\n",
    "    dZ = np.array(dA, copy = True)\n",
    "    dZ[Z <= 0] = 0\n",
    "    return dZ\n",
    "\n",
    "def backward(dA_curr, W_curr, Z_curr, A_prev):\n",
    "    m = A_prev.shape[1]\n",
    "\n",
    "    dZ_curr = relu_derivative(dA_curr, Z_curr)\n",
    "    dW_curr = np.dot(dZ_curr.T, A_prev) / m\n",
    "    db_curr = np.sum(dZ_curr, axis=1, keepdims=True) / m\n",
    "    dA_prev = np.dot(W_curr, dZ_curr.T)\n",
    "    \n",
    "    return dA_prev, dW_curr, db_curr\n",
    "\n",
    "dA_curr = - (np.divide(actual_y, out) - np.divide(1 - actual_y, 1 - out))\n",
    "W_curr = model.memory[4]['W']\n",
    "Z_curr = model.memory[4]['Z']\n",
    "A_prev = model.memory[3]['A']\n",
    "    \n",
    "dA_prev, dW_curr, db_curr = backward(dA_curr, W_curr, Z_curr, A_prev)"
   ]
  },
  {
   "cell_type": "code",
   "execution_count": 206,
   "id": "4e755de7",
   "metadata": {},
   "outputs": [],
   "source": [
    "W_curr = model.memory[3]['W']\n",
    "Z_curr = model.memory[3]['Z']\n",
    "A_prev = model.memory[2]['A']\n",
    "\n",
    "dA_prev1, dW_curr1, db_curr1 = backward(dA_prev, W_curr, Z_curr, A_prev)"
   ]
  },
  {
   "cell_type": "code",
   "execution_count": 207,
   "id": "cbbc1702",
   "metadata": {},
   "outputs": [],
   "source": [
    "W_curr = model.memory[2]['W']\n",
    "Z_curr = model.memory[2]['Z']\n",
    "A_prev = model.memory[1]['A']\n",
    "\n",
    "dA_prev2, dW_curr2, db_curr2 = backward(dA_prev1.T, W_curr, Z_curr, A_prev)"
   ]
  },
  {
   "cell_type": "code",
   "execution_count": 208,
   "id": "9d1e80c3",
   "metadata": {},
   "outputs": [],
   "source": [
    "W_curr = model.memory[1]['W']\n",
    "Z_curr = model.memory[1]['Z']\n",
    "A_prev = X\n",
    "\n",
    "dA_prev3, dW_curr3, db_curr3 = backward(dA_prev2, W_curr, Z_curr, A_prev)"
   ]
  },
  {
   "cell_type": "code",
   "execution_count": 209,
   "id": "fb6bbd21",
   "metadata": {},
   "outputs": [
    {
     "name": "stdout",
     "output_type": "stream",
     "text": [
      "(3, 6)\n",
      "(6, 10)\n",
      "(10, 6)\n",
      "(6, 8)\n"
     ]
    }
   ],
   "source": [
    "print(dW_curr.shape)\n",
    "print(dW_curr1.shape)\n",
    "print(dW_curr2.shape)\n",
    "print(dW_curr3.shape)"
   ]
  },
  {
   "cell_type": "code",
   "execution_count": 211,
   "id": "cc260009",
   "metadata": {},
   "outputs": [
    {
     "name": "stdout",
     "output_type": "stream",
     "text": [
      "(3, 6)\n",
      "(6, 10)\n",
      "(10, 6)\n",
      "(6, 8)\n"
     ]
    }
   ],
   "source": [
    "print(model.gradients[4]['dW'].shape)\n",
    "print(model.gradients[3]['dW'].shape)\n",
    "print(model.gradients[2]['dW'].shape)\n",
    "print(model.gradients[1]['dW'].shape)"
   ]
  }
 ],
 "metadata": {
  "kernelspec": {
   "display_name": "Python 3",
   "language": "python",
   "name": "python3"
  },
  "language_info": {
   "codemirror_mode": {
    "name": "ipython",
    "version": 3
   },
   "file_extension": ".py",
   "mimetype": "text/x-python",
   "name": "python",
   "nbconvert_exporter": "python",
   "pygments_lexer": "ipython3",
   "version": "3.7.7"
  }
 },
 "nbformat": 4,
 "nbformat_minor": 5
}
