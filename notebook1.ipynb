{
 "cells": [
  {
   "cell_type": "code",
   "execution_count": 1,
   "id": "de771492",
   "metadata": {},
   "outputs": [],
   "source": [
    "import numpy as np, pandas as pd, matplotlib.pyplot as plt\n",
    "from sklearn.preprocessing import LabelEncoder"
   ]
  },
  {
   "cell_type": "code",
   "execution_count": 2,
   "id": "7efea1ef",
   "metadata": {},
   "outputs": [],
   "source": [
    "X = np.random.uniform(low=-2, high=5, size=(6,8))\n",
    "ytrue = np.array([1,0,1,2,0,2])"
   ]
  },
  {
   "cell_type": "code",
   "execution_count": 2,
   "id": "3abc431e",
   "metadata": {},
   "outputs": [],
   "source": [
    "def get_data(path):\n",
    "    data = pd.read_csv(path, index_col=0)\n",
    "\n",
    "    cols = list(data.columns)\n",
    "    target = cols.pop()\n",
    "\n",
    "    X = data[cols].copy()\n",
    "    y = data[target].copy()\n",
    "\n",
    "    y = LabelEncoder().fit_transform(y)\n",
    "\n",
    "    return np.array(X), np.array(y)\n",
    "\n",
    "X, y = get_data(r'C:\\Users\\12482\\Desktop\\articles\\nn_from_scratch\\iris.csv')"
   ]
  },
  {
   "cell_type": "code",
   "execution_count": 7,
   "id": "abef3d14",
   "metadata": {},
   "outputs": [
    {
     "data": {
      "text/plain": [
       "(150, 3)"
      ]
     },
     "execution_count": 7,
     "metadata": {},
     "output_type": "execute_result"
    }
   ],
   "source": [
    "class DenseLayer:\n",
    "    def __init__(self, neurons):\n",
    "        self.neurons = neurons\n",
    "        self.b = np.zeros((1, neurons))\n",
    "        \n",
    "    def ReLU(self, inputs):\n",
    "        return np.maximum(0, inputs)\n",
    "\n",
    "    def Softmax(self, inputs):\n",
    "        exp_scores = np.exp(inputs)\n",
    "        probs = exp_scores / np.sum(exp_scores, axis=1, keepdims=True)\n",
    "        return probs\n",
    "    \n",
    "    def relu_derivative(self, dA, Z):\n",
    "        try:\n",
    "            dZ = np.array(dA, copy = True)\n",
    "            dZ[Z <= 0] = 0\n",
    "        except:\n",
    "            dA = dA.T\n",
    "            dZ = np.array(dA, copy = True)\n",
    "            dZ[Z <= 0] = 0\n",
    "        return dZ\n",
    "        \n",
    "    def forward(self, inputs, last=False):\n",
    "        self.weights = np.random.uniform(low=-1, high=1, size=(inputs.shape[1], self.neurons))\n",
    "        self.Z = np.dot(inputs, self.weights) + self.b\n",
    "        if last == True:\n",
    "            self.A = self.Softmax(self.Z)\n",
    "        else:\n",
    "            self.A = self.ReLU(self.Z)\n",
    "        self.inp = inputs\n",
    "            \n",
    "    def backward(self, dA_curr, W_curr, Z_curr, A_prev, last=False):\n",
    "        m = A_prev.shape[0]\n",
    "\n",
    "        if last == True:\n",
    "            dW_curr = np.dot(dA_curr.T, A_prev) / m\n",
    "            db_curr = np.sum(dA_curr, axis=0, keepdims=True) / m\n",
    "            dA_prev = np.dot(W_curr, dA_curr.T)\n",
    "        else:\n",
    "            dZ_curr = self.relu_derivative(dA_curr, Z_curr)\n",
    "            dW_curr = np.dot(dZ_curr.T, A_prev) / m\n",
    "            db_curr = np.sum(dZ_curr, axis=0, keepdims=True) / m\n",
    "            dA_prev = np.dot(W_curr, dZ_curr.T)\n",
    "\n",
    "        return dA_prev, dW_curr, db_curr\n",
    "\n",
    "class Network:\n",
    "    def __init__(self):\n",
    "        self.network = [] ## layers\n",
    "        self.memory = {} ## Z, A\n",
    "        self.params = {} ## W, b\n",
    "        self.gradients = {} ## dW, db\n",
    "        \n",
    "    def add(self, layer):\n",
    "        self.network.append(layer)\n",
    "    \n",
    "    def _calculate_loss(self, outputs, labels):\n",
    "        samples = len(labels)\n",
    "\n",
    "        out_clipped = np.clip(outputs, 1e-7, 1-1e-7)\n",
    "\n",
    "        if len(labels.shape) == 1:\n",
    "            confs = out_clipped[range(samples), labels]\n",
    "        elif len(labels.shape) == 2:\n",
    "            confs = np.sum(out_clipped*labels, axis=1)\n",
    "\n",
    "        return np.mean(-np.log(confs))\n",
    "\n",
    "    def _get_accuracy(self, predicted, actual):\n",
    "        return np.mean(np.argmax(predicted, axis=1)==actual)\n",
    "\n",
    "    def _forwardprop(self, data):\n",
    "        new_out = []\n",
    "        for idx, layer in enumerate(self.network):\n",
    "            if layer != self.network[-1]:\n",
    "                if not new_out:\n",
    "                    layer.forward(data)\n",
    "                    new_out.append(layer.A)\n",
    "                    self.memory[idx+1] = {'W':layer.weights, 'Z':layer.Z, 'A':layer.A,\n",
    "                                         'b':layer.b}\n",
    "                else:\n",
    "                    layer.forward(new_out[-1])\n",
    "                    new_out.append(layer.A)\n",
    "                    self.memory[idx+1] = {'W':layer.weights, 'Z':layer.Z, 'A':layer.A,\n",
    "                                         'b':layer.b}\n",
    "            else:\n",
    "                layer.forward(new_out[-1], last=True)\n",
    "                new_out.append(layer.A)\n",
    "                self.memory[idx+1] = {'W':layer.weights, 'Z':layer.Z, 'A':layer.A,\n",
    "                                      'b':layer.b}\n",
    "        \n",
    "        return new_out[-1]\n",
    "    \n",
    "    def _backprop(self, actual_y, predicted_y):\n",
    "        dscores = predicted_y\n",
    "        dscores[range(X.shape[0]),actual_y] -= 1\n",
    "        dscores /= X.shape[0]\n",
    "\n",
    "        dA_prev = dscores\n",
    "        \n",
    "        for idx, layer in reversed(list(enumerate(self.network))):\n",
    "            \n",
    "            layer_idx_curr = idx + 1\n",
    "\n",
    "            ## if output layer --> insert dC/y_hat, otherwise update with dC/dZ\n",
    "            dA_curr = dA_prev\n",
    "\n",
    "            ## if input layer --> no previous activation, inputs are initial data\n",
    "            if idx != 0:\n",
    "                A_prev = self.memory[idx]['A']\n",
    "            else: \n",
    "                A_prev = layer.inp\n",
    "\n",
    "            Z_curr = self.memory[layer_idx_curr]['Z']\n",
    "            W_curr = self.memory[layer_idx_curr]['W']\n",
    "\n",
    "            if idx == len(self.network):\n",
    "                dA_prev, dW_curr, db_curr = layer.backward(dA_curr, W_curr, Z_curr, A_prev, last=True)\n",
    "            else:\n",
    "                dA_prev, dW_curr, db_curr = layer.backward(dA_curr, W_curr, Z_curr, A_prev)\n",
    "\n",
    "            self.gradients[layer_idx_curr] = {'dW':dW_curr, 'db':db_curr}\n",
    "\n",
    "    def train(self, X, y, epochs, lr=0.03):\n",
    "        self.loss = []\n",
    "        self.accuracy = []\n",
    "\n",
    "        for _ in range(epochs):\n",
    "            yhat = self._forwardprop(X)\n",
    "            self.loss.append(self._calculate_loss(outputs=yhat, labels=y))\n",
    "            self.accuracy.append(self._get_accuracy(predicted=yhat, actual=y))\n",
    "\n",
    "            self._backprop(actual_y=y, predicted_y=yhat)\n",
    "            \n",
    "            for layer_idx in range(len(self.network)):\n",
    "                self.memory[layer_idx+1]['W'] -= lr * self.gradients[layer_idx+1]['dW'].T\n",
    "                self.memory[layer_idx+1]['b'] -= lr * self.gradients[layer_idx+1]['db']\n",
    "        \n",
    "\n",
    "model = Network()\n",
    "model.add(DenseLayer(X.shape[0]))\n",
    "model.add(DenseLayer(8))\n",
    "model.add(DenseLayer(10))\n",
    "model.add(DenseLayer(3))\n",
    "\n",
    "# model.train(X=X, y=y, epochs=50)\n",
    "out = model._forwardprop(X)\n",
    "out.shape"
   ]
  },
  {
   "cell_type": "code",
   "execution_count": 12,
   "id": "2601d8c1",
   "metadata": {},
   "outputs": [
    {
     "name": "stdout",
     "output_type": "stream",
     "text": [
      "150\n",
      "8\n",
      "10\n",
      "3\n"
     ]
    }
   ],
   "source": [
    "for x in model.network:\n",
    "    print(x.neurons)"
   ]
  },
  {
   "cell_type": "code",
   "execution_count": 11,
   "id": "94fcd995",
   "metadata": {},
   "outputs": [
    {
     "name": "stdout",
     "output_type": "stream",
     "text": [
      "(4, 150)\n",
      "(150, 8)\n",
      "(8, 10)\n",
      "(10, 3)\n"
     ]
    }
   ],
   "source": [
    "for x in model.memory.keys():\n",
    "    print(model.memory[x]['W'].shape)"
   ]
  },
  {
   "cell_type": "code",
   "execution_count": 23,
   "id": "684627f1",
   "metadata": {},
   "outputs": [
    {
     "name": "stdout",
     "output_type": "stream",
     "text": [
      "(1, 6) (1, 6)\n",
      "(1, 15) (1, 15)\n",
      "(1, 10) (1, 10)\n",
      "(1, 3) (1, 3)\n"
     ]
    }
   ],
   "source": [
    "# model.memory[2]['W'] -= 0.01 * model.gradients[2]['dW'].T\n",
    "# model.memory[2]['b'] -= 0.01 * model.gradients[2]['db'].T\n",
    "\n",
    "print(model.memory[1]['b'].shape,model.gradients[1]['db'].shape)\n",
    "print(model.memory[2]['b'].shape,model.gradients[2]['db'].shape)\n",
    "print(model.memory[3]['b'].shape,model.gradients[3]['db'].shape)\n",
    "print(model.memory[4]['b'].shape,model.gradients[4]['db'].shape)"
   ]
  },
  {
   "cell_type": "code",
   "execution_count": 205,
   "id": "d4c5b6c0",
   "metadata": {},
   "outputs": [],
   "source": [
    "actual_y = model._one_hot(labels=ytrue)\n",
    "actual_y = actual_y.reshape(out.shape)\n",
    "\n",
    "def relu_derivative(dA, Z):\n",
    "    dZ = np.array(dA, copy = True)\n",
    "    dZ[Z <= 0] = 0\n",
    "    return dZ\n",
    "\n",
    "def backward(dA_curr, W_curr, Z_curr, A_prev):\n",
    "    m = A_prev.shape[1]\n",
    "\n",
    "    dZ_curr = relu_derivative(dA_curr, Z_curr)\n",
    "    dW_curr = np.dot(dZ_curr.T, A_prev) / m\n",
    "    db_curr = np.sum(dZ_curr, axis=1, keepdims=True) / m\n",
    "    dA_prev = np.dot(W_curr, dZ_curr.T)\n",
    "    \n",
    "    return dA_prev, dW_curr, db_curr\n",
    "\n",
    "dA_curr = - (np.divide(actual_y, out) - np.divide(1 - actual_y, 1 - out))\n",
    "W_curr = model.memory[4]['W']\n",
    "Z_curr = model.memory[4]['Z']\n",
    "A_prev = model.memory[3]['A']\n",
    "    \n",
    "dA_prev, dW_curr, db_curr = backward(dA_curr, W_curr, Z_curr, A_prev)"
   ]
  },
  {
   "cell_type": "code",
   "execution_count": 206,
   "id": "4e755de7",
   "metadata": {},
   "outputs": [],
   "source": [
    "W_curr = model.memory[3]['W']\n",
    "Z_curr = model.memory[3]['Z']\n",
    "A_prev = model.memory[2]['A']\n",
    "\n",
    "dA_prev1, dW_curr1, db_curr1 = backward(dA_prev, W_curr, Z_curr, A_prev)"
   ]
  },
  {
   "cell_type": "code",
   "execution_count": 207,
   "id": "cbbc1702",
   "metadata": {},
   "outputs": [],
   "source": [
    "W_curr = model.memory[2]['W']\n",
    "Z_curr = model.memory[2]['Z']\n",
    "A_prev = model.memory[1]['A']\n",
    "\n",
    "dA_prev2, dW_curr2, db_curr2 = backward(dA_prev1.T, W_curr, Z_curr, A_prev)"
   ]
  },
  {
   "cell_type": "code",
   "execution_count": 208,
   "id": "9d1e80c3",
   "metadata": {},
   "outputs": [],
   "source": [
    "W_curr = model.memory[1]['W']\n",
    "Z_curr = model.memory[1]['Z']\n",
    "A_prev = X\n",
    "\n",
    "dA_prev3, dW_curr3, db_curr3 = backward(dA_prev2, W_curr, Z_curr, A_prev)"
   ]
  },
  {
   "cell_type": "code",
   "execution_count": 209,
   "id": "fb6bbd21",
   "metadata": {},
   "outputs": [
    {
     "name": "stdout",
     "output_type": "stream",
     "text": [
      "(3, 6)\n",
      "(6, 10)\n",
      "(10, 6)\n",
      "(6, 8)\n"
     ]
    }
   ],
   "source": [
    "print(dW_curr.shape)\n",
    "print(dW_curr1.shape)\n",
    "print(dW_curr2.shape)\n",
    "print(dW_curr3.shape)"
   ]
  },
  {
   "cell_type": "code",
   "execution_count": 211,
   "id": "cc260009",
   "metadata": {},
   "outputs": [
    {
     "name": "stdout",
     "output_type": "stream",
     "text": [
      "(3, 6)\n",
      "(6, 10)\n",
      "(10, 6)\n",
      "(6, 8)\n"
     ]
    }
   ],
   "source": [
    "print(model.gradients[4]['dW'].shape)\n",
    "print(model.gradients[3]['dW'].shape)\n",
    "print(model.gradients[2]['dW'].shape)\n",
    "print(model.gradients[1]['dW'].shape)"
   ]
  }
 ],
 "metadata": {
  "kernelspec": {
   "display_name": "Python 3",
   "language": "python",
   "name": "python3"
  },
  "language_info": {
   "codemirror_mode": {
    "name": "ipython",
    "version": 3
   },
   "file_extension": ".py",
   "mimetype": "text/x-python",
   "name": "python",
   "nbconvert_exporter": "python",
   "pygments_lexer": "ipython3",
   "version": "3.7.12"
  }
 },
 "nbformat": 4,
 "nbformat_minor": 5
}
