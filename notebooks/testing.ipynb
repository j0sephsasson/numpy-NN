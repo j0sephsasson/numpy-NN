{
 "cells": [
  {
   "cell_type": "code",
   "execution_count": 1,
   "id": "653c02bd",
   "metadata": {},
   "outputs": [],
   "source": [
    "import numpy as np, pandas as pd, matplotlib.pyplot as plt\n",
    "from sklearn.preprocessing import LabelEncoder"
   ]
  },
  {
   "cell_type": "code",
   "execution_count": 2,
   "id": "94a30258",
   "metadata": {},
   "outputs": [],
   "source": [
    "# X = np.random.uniform(low=-2, high=5, size=(6,8))\n",
    "# ytrue = np.array([1,0,1,2,0,2])\n",
    "\n",
    "def get_data(path):\n",
    "    data = pd.read_csv(path, index_col=0)\n",
    "\n",
    "    cols = list(data.columns)\n",
    "    target = cols.pop()\n",
    "\n",
    "    X = data[cols].copy()\n",
    "    y = data[target].copy()\n",
    "\n",
    "    y = LabelEncoder().fit_transform(y)\n",
    "\n",
    "    return np.array(X), np.array(y)\n",
    "\n",
    "X, y = get_data(r'C:\\Users\\12482\\Desktop\\articles\\nn_from_scratch\\iris.csv')"
   ]
  },
  {
   "cell_type": "code",
   "execution_count": 3,
   "id": "57686ff9",
   "metadata": {},
   "outputs": [],
   "source": [
    "class DenseLayer:\n",
    "    def __init__(self, neurons):\n",
    "        self.neurons = neurons\n",
    "        \n",
    "    def relu(self, inputs):\n",
    "        return np.maximum(0, inputs)\n",
    "\n",
    "    def softmax(self, inputs):\n",
    "        exp_scores = np.exp(inputs)\n",
    "        probs = exp_scores / np.sum(exp_scores, axis=1, keepdims=True)\n",
    "        return probs\n",
    "    \n",
    "    def relu_derivative(self, dA, Z):\n",
    "        dZ = np.array(dA, copy = True)\n",
    "        dZ[Z <= 0] = 0\n",
    "        return dZ\n",
    "    \n",
    "    def forward(self, inputs, weights, bias, activation):\n",
    "        Z_curr = np.dot(inputs, weights.T) + bias\n",
    "        \n",
    "        if activation == 'relu':\n",
    "            A_curr = self.relu(inputs=Z_curr)\n",
    "        elif activation == 'softmax':\n",
    "            A_curr = self.softmax(inputs=Z_curr)\n",
    "            \n",
    "        return A_curr, Z_curr\n",
    "    \n",
    "    def backward(self, dA_curr, W_curr, Z_curr, A_prev, activation):\n",
    "        if activation == 'softmax':\n",
    "            dW = np.dot(A_prev.T, dA_curr) ## backpropate the gradient to the parameters (W,b)\n",
    "            db = np.sum(dA_curr, axis=0, keepdims=True)\n",
    "            dA = np.dot(W_curr.T, dA_curr.T) ## --> next input for dW (this is dA)\n",
    "        else:\n",
    "            dZ = self.relu_derivative(dA_curr.T, Z_curr)\n",
    "            dW = np.dot(A_prev.T, dZ)\n",
    "            db = np.sum(dZ, axis=0, keepdims=True)\n",
    "            dA = np.dot(W_curr.T, dZ.T) ## --> next input for dW (this is dA)\n",
    "            \n",
    "        return dA, dW, db\n",
    "\n",
    "class Network:\n",
    "    def __init__(self):\n",
    "        self.network = [] ## layers\n",
    "        self.architecture = [] ## mapping input neurons --> output neurons\n",
    "        self.params = [] ## W, b\n",
    "        self.memory = [] ## Z, A\n",
    "        self.gradients = [] ## dW, db\n",
    "        \n",
    "    def add(self, layer):\n",
    "        self.network.append(layer)\n",
    "            \n",
    "    def _compile(self, data):\n",
    "        for idx, layer in enumerate(self.network):\n",
    "            if idx == 0:\n",
    "                self.architecture.append({'input_dim':data.shape[1], \n",
    "                                          'output_dim':layer.neurons, 'activation':'relu'})\n",
    "            if idx == len(self.network)-2:\n",
    "                self.architecture.append({'input_dim':layer.neurons, \n",
    "                                          'output_dim':self.network[idx+1].neurons, 'activation':'softmax'})\n",
    "            elif idx != len(self.network)-2 and idx != len(self.network)-1:\n",
    "                self.architecture.append({'input_dim':layer.neurons, \n",
    "                                          'output_dim':self.network[idx+1].neurons, 'activation':'relu'})\n",
    "            else:\n",
    "                continue\n",
    "                \n",
    "        return self\n",
    "    \n",
    "    def _init_weights(self, data):\n",
    "        self._compile(data)\n",
    "        \n",
    "        for i in range(len(self.architecture)):\n",
    "            self.params.append({\n",
    "                'W':np.random.uniform(low=-1, high=1, \n",
    "                  size=(self.architecture[i]['output_dim'], \n",
    "                        self.architecture[i]['input_dim'])),\n",
    "                'b':np.zeros((1, self.architecture[i]['output_dim']))})\n",
    "        \n",
    "        return self\n",
    "    \n",
    "    def _forwardprop(self, data):\n",
    "        A_curr = data\n",
    "        \n",
    "        for i in range(len(self.params)):\n",
    "            A_prev = A_curr\n",
    "            A_curr, Z_curr = self.network[i].forward(inputs=A_prev, weights=self.params[i]['W'], \n",
    "                                           bias=self.params[i]['b'], activation=self.architecture[i]['activation'])\n",
    "            \n",
    "            self.memory.append({'inputs':A_prev, 'Z':Z_curr})\n",
    "            \n",
    "        return A_curr\n",
    "    \n",
    "    def _backprop(self, predicted, actual):\n",
    "        num_samples = len(actual)\n",
    "        \n",
    "        ## compute the gradient on predictions\n",
    "        dscores = predicted\n",
    "        dscores[range(num_samples),actual] -= 1\n",
    "        dscores /= num_samples\n",
    "        \n",
    "        dA_prev = dscores\n",
    "        \n",
    "        for idx, layer in reversed(list(enumerate(self.network))):\n",
    "            dA_curr = dA_prev\n",
    "            \n",
    "            A_prev = self.memory[idx]['inputs']\n",
    "            Z_curr = self.memory[idx]['Z']\n",
    "            W_curr = self.params[idx]['W']\n",
    "            \n",
    "            activation = self.architecture[idx]['activation']\n",
    "\n",
    "            dA_prev, dW_curr, db_curr = layer.backward(dA_curr, W_curr, Z_curr, A_prev, activation)\n",
    "\n",
    "            self.gradients.append({'dW':dW_curr, 'db':db_curr})\n",
    "            \n",
    "    def _update(self, lr=0.01):\n",
    "        for idx, layer in enumerate(self.network):\n",
    "            self.params[idx]['W'] -= lr * list(reversed(self.gradients))[idx]['dW'].T     \n",
    "            self.params[idx]['b'] -= lr * list(reversed(self.gradients))[idx]['db']\n",
    "    \n",
    "    def _get_accuracy(self, predicted, actual):\n",
    "        return np.mean(np.argmax(predicted, axis=1)==actual)\n",
    "    \n",
    "    def _calculate_loss(self, predicted, actual):\n",
    "        samples = len(actual)\n",
    "        \n",
    "        probs = predicted / np.sum(predicted, axis=1, keepdims=True)\n",
    "        correct_logprobs = -np.log(probs[range(samples),actual])\n",
    "        data_loss = np.sum(correct_logprobs)/150\n",
    "\n",
    "        return data_loss\n",
    "    \n",
    "    def train(self, X_train, y_train, epochs):\n",
    "        self.loss = []\n",
    "        self.accuracy = []\n",
    "        \n",
    "        self._init_weights(X_train)\n",
    "        \n",
    "        for i in range(epochs):\n",
    "            yhat = self._forwardprop(X_train)\n",
    "            self.accuracy.append(self._get_accuracy(predicted=yhat, actual=y_train))\n",
    "            self.loss.append(self._calculate_loss(predicted=yhat, actual=y_train))\n",
    "            \n",
    "            self._backprop(predicted=yhat, actual=y_train)\n",
    "            \n",
    "            self._update()\n",
    "            \n",
    "            if i % 20 == 0:\n",
    "                s = 'EPOCH: {}, ACCURACY: {}, LOSS: {}'.format(i, self.accuracy[-1], self.loss[-1])\n",
    "                print(s)"
   ]
  },
  {
   "cell_type": "code",
   "execution_count": 11,
   "id": "d4ea90de",
   "metadata": {},
   "outputs": [],
   "source": [
    "X1 = np.random.uniform(low=-2, high=5, size=(6,8))\n",
    "y1 = np.array([1,0,1,2,0,2])"
   ]
  },
  {
   "cell_type": "code",
   "execution_count": 5,
   "id": "2e6be832",
   "metadata": {},
   "outputs": [
    {
     "name": "stdout",
     "output_type": "stream",
     "text": [
      "EPOCH: 0, ACCURACY: 0.3333333333333333, LOSS: 1.8507288360616592\n",
      "EPOCH: 20, ACCURACY: 0.64, LOSS: 0.8984484293696664\n",
      "EPOCH: 40, ACCURACY: 0.5666666666666667, LOSS: 0.8055846210908157\n",
      "EPOCH: 60, ACCURACY: 0.5933333333333334, LOSS: 0.7544998303196496\n",
      "EPOCH: 80, ACCURACY: 0.6466666666666666, LOSS: 0.7034754660535022\n",
      "EPOCH: 100, ACCURACY: 0.8666666666666667, LOSS: 0.6522870909240465\n",
      "EPOCH: 120, ACCURACY: 0.9466666666666667, LOSS: 0.6051327850621049\n",
      "EPOCH: 140, ACCURACY: 0.96, LOSS: 0.5624822108029988\n",
      "EPOCH: 160, ACCURACY: 0.96, LOSS: 0.5237726663927962\n",
      "EPOCH: 180, ACCURACY: 0.9533333333333334, LOSS: 0.4887972804949555\n"
     ]
    }
   ],
   "source": [
    "model = Network()\n",
    "model.add(DenseLayer(6))\n",
    "model.add(DenseLayer(8))\n",
    "model.add(DenseLayer(3))\n",
    "\n",
    "model.train(X_train=X, y_train=y, epochs=200)"
   ]
  },
  {
   "cell_type": "code",
   "execution_count": 13,
   "id": "901fb908",
   "metadata": {},
   "outputs": [
    {
     "data": {
      "text/plain": [
       "Text(0.5, 1.0, 'MODEL LOSS')"
      ]
     },
     "execution_count": 13,
     "metadata": {},
     "output_type": "execute_result"
    },
    {
     "data": {
      "image/png": "[encoded data removed]",
      "text/plain": [
       "<Figure size 432x288 with 1 Axes>"
      ]
     },
     "metadata": {
      "needs_background": "light"
     },
     "output_type": "display_data"
    }
   ],
   "source": [
    "plt.plot(model.loss)\n",
    "plt.title('MODEL LOSS')"
   ]
  },
  {
   "cell_type": "code",
   "execution_count": 14,
   "id": "0f3ee589",
   "metadata": {},
   "outputs": [
    {
     "data": {
      "text/plain": [
       "Text(0.5, 1.0, 'MODEL ACCURACY')"
      ]
     },
     "execution_count": 14,
     "metadata": {},
     "output_type": "execute_result"
    },
    {
     "data": {
      "image/png": "[encoded data removed]",
      "text/plain": [
       "<Figure size 432x288 with 1 Axes>"
      ]
     },
     "metadata": {
      "needs_background": "light"
     },
     "output_type": "display_data"
    }
   ],
   "source": [
    "plt.plot(model.accuracy)\n",
    "plt.title('MODEL ACCURACY')"
   ]
  },
  {
   "cell_type": "code",
   "execution_count": 104,
   "id": "1a611074",
   "metadata": {},
   "outputs": [
    {
     "name": "stdout",
     "output_type": "stream",
     "text": [
      "EPOCH: 0, ACCURACY: 0.0, LOSS: 3.4108930670071502\n",
      "EPOCH: 20, ACCURACY: 0.36666666666666664, LOSS: 1.1936043594679888\n",
      "EPOCH: 40, ACCURACY: 0.3466666666666667, LOSS: 1.118932842322857\n",
      "EPOCH: 60, ACCURACY: 0.66, LOSS: 0.9708749881783422\n",
      "EPOCH: 80, ACCURACY: 0.6666666666666666, LOSS: 0.8042474571794903\n",
      "EPOCH: 100, ACCURACY: 0.8266666666666667, LOSS: 0.6681771644675543\n",
      "EPOCH: 120, ACCURACY: 0.9133333333333333, LOSS: 0.5668208375141273\n",
      "EPOCH: 140, ACCURACY: 0.9466666666666667, LOSS: 0.49042298732862266\n",
      "EPOCH: 160, ACCURACY: 0.96, LOSS: 0.4332030745379141\n",
      "EPOCH: 180, ACCURACY: 0.96, LOSS: 0.3895659120584873\n"
     ]
    }
   ],
   "source": [
    "model1 = Network()\n",
    "model1.add(DenseLayer(6))\n",
    "model1.add(DenseLayer(10))\n",
    "model1.add(DenseLayer(8))\n",
    "model1.add(DenseLayer(5))\n",
    "\n",
    "model1.train(X_train=X, y_train=y, epochs=200)"
   ]
  },
  {
   "cell_type": "code",
   "execution_count": 105,
   "id": "83735140",
   "metadata": {},
   "outputs": [
    {
     "data": {
      "text/plain": [
       "[<matplotlib.lines.Line2D at 0x28fd3300088>]"
      ]
     },
     "execution_count": 105,
     "metadata": {},
     "output_type": "execute_result"
    },
    {
     "data": {
      "image/png": "[encoded data removed]",
      "text/plain": [
       "<Figure size 432x288 with 1 Axes>"
      ]
     },
     "metadata": {
      "needs_background": "light"
     },
     "output_type": "display_data"
    }
   ],
   "source": [
    "plt.plot(model.accuracy)\n",
    "plt.plot(model1.accuracy)"
   ]
  }
 ],
 "metadata": {
  "kernelspec": {
   "display_name": "Python 3",
   "language": "python",
   "name": "python3"
  },
  "language_info": {
   "codemirror_mode": {
    "name": "ipython",
    "version": 3
   },
   "file_extension": ".py",
   "mimetype": "text/x-python",
   "name": "python",
   "nbconvert_exporter": "python",
   "pygments_lexer": "ipython3",
   "version": "3.7.7"
  }
 },
 "nbformat": 4,
 "nbformat_minor": 5
}
